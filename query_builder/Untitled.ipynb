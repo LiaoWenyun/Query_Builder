{
 "cells": [
  {
   "cell_type": "code",
   "execution_count": 4,
   "metadata": {
    "scrolled": true
   },
   "outputs": [
    {
     "data": {
      "application/vnd.jupyter.widget-view+json": {
       "model_id": "ec892aef95a24647bf9ea594b6a6976f",
       "version_major": 2,
       "version_minor": 0
      },
      "text/plain": [
       "Combobox(value='https://www.cadc-ccda.hia-iha.nrc-cnrc.gc.ca/argus/', continuous_update=False, description='Se…"
      ]
     },
     "metadata": {},
     "output_type": "display_data"
    },
    {
     "data": {
      "application/vnd.jupyter.widget-view+json": {
       "model_id": "5bec05612db648cebb78bcd21ef8a113",
       "version_major": 2,
       "version_minor": 0
      },
      "text/plain": [
       "Output()"
      ]
     },
     "metadata": {},
     "output_type": "display_data"
    },
    {
     "data": {
      "application/vnd.jupyter.widget-view+json": {
       "model_id": "65b1c885f51d4114a5bdaa91e476f8d0",
       "version_major": 2,
       "version_minor": 0
      },
      "text/plain": [
       "HBox(children=(Output(layout=Layout(width='100%')), VBox(children=(Button(description='Delete', layout=Layout(…"
      ]
     },
     "metadata": {},
     "output_type": "display_data"
    },
    {
     "data": {
      "application/vnd.jupyter.widget-view+json": {
       "model_id": "692a5f36d3b54a2aafad1048f0889a48",
       "version_major": 2,
       "version_minor": 0
      },
      "text/plain": [
       "Output(layout=Layout(width='100%'))"
      ]
     },
     "metadata": {},
     "output_type": "display_data"
    }
   ],
   "source": [
    "import os\n",
    "import sys\n",
    "sys.path.insert(0, os.path.abspath('./'))\n",
    "\n",
    "from core import QueryBuilder\n",
    "query_builder = QueryBuilder()   #should take nothing instead \n",
    "# have a combobox for the services\n",
    "# have a dropdown of tabls from the combobox\n",
    "# the midle box values should change based on the column type\n",
    "# think how the join should be implemented\n",
    "#query_builder.adql_builder()"
   ]
  },
  {
   "cell_type": "code",
   "execution_count": 2,
   "metadata": {},
   "outputs": [
    {
     "name": "stderr",
     "output_type": "stream",
     "text": [
      "WARNING: AstropyDeprecationWarning: Using the table property is deprecated. Please use se to_table() instead. [pyvo.dal.query]\n"
     ]
    },
    {
     "data": {
      "text/html": [
       "<i>Table masked=True length=179</i>\n",
       "<table id=\"table140059943004200\" class=\"table-striped table-bordered table-condensed\">\n",
       "<thead><tr><th>observationURI</th><th>sequenceNumber</th><th>proposal_keywords</th><th>target_standard</th><th>target_redshift</th><th>target_moving</th><th>target_keywords</th><th>targetPosition_equinox</th><th>obsID</th><th>collection</th><th>observationID</th><th>algorithm_name</th><th>type</th><th>intent</th><th>metaRelease</th><th>proposal_id</th><th>targetPosition_coordinates_cval1</th><th>proposal_pi</th><th>proposal_project</th><th>targetPosition_coordinates_cval2</th><th>telescope_geoLocationX</th><th>telescope_geoLocationY</th><th>telescope_geoLocationZ</th><th>telescope_keywords</th><th>telescope_name</th><th>instrument_keywords</th><th>environment_seeing</th><th>environment_humidity</th><th>environment_elevation</th><th>environment_tau</th><th>environment_wavelengthTau</th><th>environment_ambientTemp</th><th>environment_photometric</th><th>members</th><th>typeCode</th><th>metaChecksum</th><th>accMetaChecksum</th><th>requirements_flag</th><th>instrument_name</th><th>lastModified</th><th>maxLastModified</th><th>proposal_title</th><th>target_name</th><th>target_type</th><th>targetPosition_coordsys</th></tr></thead>\n",
       "<thead><tr><th></th><th></th><th></th><th></th><th></th><th></th><th></th><th></th><th></th><th></th><th></th><th></th><th></th><th></th><th></th><th></th><th>deg</th><th></th><th></th><th>deg</th><th></th><th></th><th></th><th></th><th></th><th></th><th>arcsec</th><th></th><th>deg</th><th></th><th>m</th><th>C</th><th></th><th></th><th></th><th></th><th></th><th></th><th></th><th></th><th></th><th></th><th></th><th></th><th></th></tr></thead>\n",
       "<thead><tr><th>object</th><th>int32</th><th>object</th><th>int32</th><th>float64</th><th>int32</th><th>object</th><th>float64</th><th>bytes36</th><th>bytes32</th><th>bytes128</th><th>bytes32</th><th>bytes32</th><th>bytes32</th><th>bytes23</th><th>bytes128</th><th>float64</th><th>bytes128</th><th>bytes32</th><th>float64</th><th>float64</th><th>float64</th><th>float64</th><th>object</th><th>bytes32</th><th>object</th><th>float64</th><th>float64</th><th>float64</th><th>float64</th><th>float64</th><th>float64</th><th>int32</th><th>object</th><th>bytes1</th><th>object</th><th>object</th><th>bytes16</th><th>bytes32</th><th>bytes23</th><th>bytes23</th><th>bytes256</th><th>bytes32</th><th>bytes32</th><th>bytes16</th></tr></thead>\n",
       "<tr><td>caom:SUBARU/SUPE01013350</td><td>--</td><td></td><td>--</td><td>--</td><td>--</td><td></td><td>--</td><td>00000000-0000-0000-b859-5f1c4149ca79</td><td>SUBARU</td><td>SUPE01013350</td><td>exposure</td><td>STANDARD_STAR</td><td>calibration</td><td>2017-01-01T00:00:00.000</td><td></td><td>--</td><td></td><td></td><td>--</td><td>-5461060.909</td><td>-2491393.621</td><td>2149257.916</td><td></td><td>SUBARU</td><td>IMAG</td><td>--</td><td>--</td><td>--</td><td>--</td><td>--</td><td>--</td><td>--</td><td></td><td>S</td><td>md5:ffd0114af3f4b8f16f967dd04efa0746</td><td>md5:8c7d9c5beb5ece8a6443a26f076c609a</td><td></td><td>Suprime-Cam</td><td>2018-04-24T07:36:23.682</td><td>2018-04-24T07:36:23.682</td><td></td><td>SA110-232</td><td></td><td></td></tr>\n",
       "<tr><td>caom:CFHT/101335</td><td>101335</td><td></td><td>--</td><td>--</td><td>--</td><td></td><td>--</td><td>00000000-0000-0000-7955-0d93fc2f5db9</td><td>CFHT</td><td>101335</td><td>exposure</td><td>DARK</td><td>calibration</td><td>1991-01-10T16:21:41.000</td><td>unknown</td><td>--</td><td></td><td></td><td>--</td><td>-5464228.6</td><td>-2493778.2</td><td>2150937.8</td><td></td><td>CFHT 3.6m</td><td></td><td>--</td><td>--</td><td>--</td><td>--</td><td>--</td><td>--</td><td>--</td><td></td><td>S</td><td>md5:3824fbc2b9c6be2a98dbcc937aa61c46</td><td>md5:eb85e20d3892b60d485c1a5e8c04eb8f</td><td></td><td>MARLIN</td><td>2015-01-26T20:27:54.990</td><td>2017-11-30T10:07:18.703</td><td></td><td></td><td></td><td></td></tr>\n",
       "<tr><td>caom:JCMT/scuba2_00031_20150518T101335</td><td>31</td><td></td><td>0</td><td>--</td><td>0</td><td></td><td>2000.0</td><td>00000000-0000-0000-ec8f-fa0b5c1654cd</td><td>JCMT</td><td>scuba2_00031_20150518T101335</td><td>exposure</td><td>scan</td><td>science</td><td>2016-08-01T23:59:59.000</td><td>M15AH04</td><td>177.40125</td><td>Lennox L. Cowie</td><td></td><td>22.3994722222</td><td>-5464587.6584</td><td>-2492997.76714</td><td>2150659.1377</td><td></td><td>JCMT</td><td>SELF CV_DAISY</td><td>1.209328</td><td>15.0</td><td>37.785359</td><td>0.051</td><td>0.001332411</td><td>2.7</td><td>0</td><td></td><td>S</td><td>md5:9e02516eb4c84628ac34528dafaed23f</td><td>md5:9ec614a49fcbde10b11b670ae65a4c99</td><td></td><td>SCUBA-2</td><td>2018-01-03T10:22:50.050</td><td>2019-11-06T20:05:33.001</td><td>Star-Forming Galaxies and AGN at High Redshifts</td><td>MACSJ1149</td><td></td><td>ICRS</td></tr>\n",
       "<tr><td>caom:JCMT/scuba2_00027_20130510T101335</td><td>27</td><td></td><td>1</td><td>--</td><td>0</td><td></td><td>2000.0</td><td>00000000-0000-0000-ed68-e76afdfce5d0</td><td>JCMT</td><td>scuba2_00027_20130510T101335</td><td>exposure</td><td>focus</td><td>calibration</td><td>2013-05-09T00:00:00.000</td><td>JCMTCAL</td><td>265.999583333</td><td>James Clerk Maxwell Telescope</td><td></td><td>-3.83463888889</td><td>-5464587.73586</td><td>-2492998.37976</td><td>2150658.23682</td><td></td><td>JCMT</td><td>SELF CV_DAISY</td><td>--</td><td>41.6</td><td>44.8322728151</td><td>0.123</td><td>0.00133241092444</td><td>2.3</td><td>0</td><td></td><td>S</td><td>md5:aafc65b873578346be24ddd8ce856f11</td><td>md5:86263cc616b250d78439022ede3943cc</td><td></td><td>SCUBA-2</td><td>2018-01-05T04:30:46.430</td><td>2019-11-06T21:18:03.106</td><td>General JCMT non-astronomical calibration observations</td><td>1741-038</td><td></td><td>ICRS</td></tr>\n",
       "<tr><td>caom:JCMT/DAS_00030_20001130T101335</td><td>30</td><td></td><td>0</td><td>0.000116761064874</td><td>0</td><td></td><td>2000.0</td><td>00000000-0000-0000-0cb1-03fae7813cab</td><td>JCMT</td><td>DAS_00030_20001130T101335</td><td>exposure</td><td>pointing</td><td>calibration</td><td>2014-01-13T00:00:00.000</td><td>M00BU60</td><td>16.6082916667</td><td></td><td></td><td>12.5981666667</td><td>-5464575.60066</td><td>-2492686.86262</td><td>2150956.29549</td><td></td><td>JCMT</td><td>USB SSB CHOP</td><td>0.448</td><td>23.6849822998</td><td>40.7159203868</td><td>0.067</td><td>0.00133241092444</td><td>1.8705753088</td><td>--</td><td></td><td>S</td><td>md5:baadf7def1e72ef51e179f8971c11a50</td><td>md5:530771af7512d4cd45daaadccb36cf77</td><td></td><td>RXB3-DAS</td><td>2014-09-26T17:04:04.657</td><td>2019-01-31T02:19:17.498</td><td></td><td>WXPSC</td><td></td><td>ICRS</td></tr>\n",
       "<tr><td>caom:JCMT/DAS_00347_19960719T101335</td><td>347</td><td></td><td>0</td><td>0.0</td><td>0</td><td></td><td>2000.0</td><td>00000000-0000-0000-5bb6-fe3fdab70e4c</td><td>JCMT</td><td>DAS_00347_19960719T101335</td><td>exposure</td><td>grid</td><td>science</td><td>1997-08-01T23:59:59.000</td><td>M96AU31</td><td>266.417208333</td><td></td><td></td><td>-29.0079444444</td><td>-5464575.56628</td><td>-2492686.72373</td><td>2150956.54214</td><td></td><td>JCMT</td><td>LSB DSB CHOP</td><td>6.89981789e-07</td><td>11.2869358063</td><td>33.668294222</td><td>0.042</td><td>0.00133241092444</td><td>4.15873193741</td><td>--</td><td></td><td>S</td><td>md5:7d1b0ba5b1eba6effb87481a60626c03</td><td>md5:59bc92d961e6ea1c1bd07950fd2e165d</td><td></td><td>RXB3I-DAS</td><td>2014-07-15T18:48:33.057</td><td>2019-11-07T03:57:59.797</td><td></td><td>GC</td><td></td><td>ICRS</td></tr>\n",
       "<tr><td>caom:JCMT/20140325-123b101335713dc0cbe813dd01b211aa</td><td>47</td><td></td><td>0</td><td>-0.000100059215711</td><td>0</td><td></td><td>--</td><td>00000000-0000-0000-5024-01451ada0574</td><td>JCMT</td><td>20140325-123b101335713dc0cbe813dd01b211aa</td><td>night</td><td>grid</td><td>science</td><td>2015-10-01T00:00:00.000</td><td>M14AN01</td><td>--</td><td>Jan Wouterloot</td><td></td><td>--</td><td>-5464584.89133</td><td>-2492997.02642</td><td>2150658.1366</td><td></td><td>JCMT</td><td>LSB DSB CHOP</td><td>--</td><td>8.8</td><td>59.838989</td><td>0.047</td><td>0.001332411</td><td>-1.7</td><td>0</td><td>caom:JCMT/acsis_00047_20140325T105031</td><td>C</td><td>md5:4e7b7be87e495991b7f74c658c9043e6</td><td>md5:a3a09dfe4513dee250b48ef77f98e5e7</td><td></td><td>RXA3-ACSIS</td><td>2015-06-27T03:42:06.330</td><td>2019-01-31T03:43:04.831</td><td>Heterodyne Standards</td><td>SVir</td><td></td><td></td></tr>\n",
       "<tr><td>caom:JCMT/20140327-8dd00b406b47d696f8101335d9b28d59</td><td>35</td><td></td><td>0</td><td>4.3365212836e-05</td><td>0</td><td></td><td>--</td><td>00000000-0000-0000-6f3e-01451b5ce259</td><td>JCMT</td><td>20140327-8dd00b406b47d696f8101335d9b28d59</td><td>night</td><td>grid</td><td>science</td><td>2015-10-01T00:00:00.000</td><td>M14AN01</td><td>--</td><td>Jan Wouterloot</td><td></td><td>--</td><td>-5464584.89133</td><td>-2492997.02642</td><td>2150658.1366</td><td></td><td>JCMT</td><td>LSB DSB CHOP</td><td>--</td><td>10.2</td><td>39.085761</td><td>0.082</td><td>0.001332411</td><td>0.6</td><td>0</td><td>caom:JCMT/acsis_00035_20140327T091526</td><td>C</td><td>md5:e13556b748121ecd367b6f8a3c248a79</td><td>md5:20b6850f8209025ee43935a61b7f61cf</td><td></td><td>RXA3-ACSIS</td><td>2015-06-27T05:57:25.670</td><td>2019-01-31T03:53:58.885</td><td>Heterodyne Standards</td><td>LPHya</td><td></td><td></td></tr>\n",
       "<tr><td>caom:JCMT/eac_9308@930816_101335_ukt_0037</td><td>--</td><td></td><td>--</td><td>--</td><td>--</td><td></td><td>--</td><td>00000000-0000-0000-3ae1-01440f617716</td><td>JCMT</td><td>eac_9308@930816_101335_ukt_0037</td><td>exposure</td><td></td><td>science</td><td>1995-02-02T00:00:00.000</td><td>EAC_9308</td><td>--</td><td></td><td></td><td>--</td><td>-5461075.78</td><td>-2491090.15</td><td>2149569.763</td><td></td><td>JCMT</td><td>frontend=ukt14 backtype=continuum sam_mode=fivepoint sw_mode=chopping inbeam= sideband= sb_mode= filter=1.1 aperture=65.0</td><td>--</td><td>--</td><td>--</td><td>--</td><td>--</td><td>--</td><td>--</td><td></td><td>S</td><td>md5:ca1c3c0c51fcaa05dc9224f07cf55c09</td><td>md5:94b3d6dcde2331f6e903aef6e9289a82</td><td></td><td>UKT14</td><td>2014-02-09T13:55:51.490</td><td>2019-01-26T23:06:32.826</td><td></td><td>K3-50</td><td></td><td></td></tr>\n",
       "<tr><td>...</td><td>...</td><td>...</td><td>...</td><td>...</td><td>...</td><td>...</td><td>...</td><td>...</td><td>...</td><td>...</td><td>...</td><td>...</td><td>...</td><td>...</td><td>...</td><td>...</td><td>...</td><td>...</td><td>...</td><td>...</td><td>...</td><td>...</td><td>...</td><td>...</td><td>...</td><td>...</td><td>...</td><td>...</td><td>...</td><td>...</td><td>...</td><td>...</td><td>...</td><td>...</td><td>...</td><td>...</td><td>...</td><td>...</td><td>...</td><td>...</td><td>...</td><td>...</td><td>...</td><td>...</td></tr>\n",
       "<tr><td>caom:NOAO/c15e_140602_101335_cri</td><td>--</td><td></td><td>--</td><td>--</td><td>--</td><td></td><td>--</td><td>00000000-0000-0000-a0ec-6ed9636d4099</td><td>NOAO</td><td>c15e_140602_101335_cri</td><td>exposure</td><td></td><td>science</td><td>1990-01-01T00:00:00.000</td><td>smarts</td><td>--</td><td>SMARTS Director</td><td></td><td>--</td><td>1815000.0</td><td>5213000.0</td><td>-3187000.0</td><td></td><td>ct15m</td><td></td><td>--</td><td>--</td><td>--</td><td>--</td><td>--</td><td>--</td><td>--</td><td></td><td>S</td><td>md5:89c89f844090b822c2ec0775eba8661d</td><td>md5:bb9309d3d1a522e642130c8a58e0ccbd</td><td></td><td>echelle</td><td>2017-12-21T00:57:05.511</td><td>2017-12-21T00:57:05.511</td><td></td><td>quartz</td><td></td><td></td></tr>\n",
       "<tr><td>caom:SDSS/1237657587101335552</td><td>--</td><td></td><td>--</td><td>--</td><td>--</td><td></td><td>--</td><td>00000000-0000-0000-bdd9-30a5c5767e6e</td><td>SDSS</td><td>1237657587101335552</td><td>exposure</td><td>OBJECT</td><td>science</td><td>2017-09-07T00:00:00.000</td><td>SDSS</td><td>--</td><td>SDSS</td><td>SDSS</td><td>--</td><td>-1463987.5095</td><td>-5166642.1016</td><td>3435006.2092</td><td></td><td>Apache Point 2.5m</td><td></td><td>--</td><td>--</td><td>--</td><td>--</td><td>--</td><td>--</td><td>--</td><td></td><td>S</td><td>md5:dfd1e6cb2623f511d5bc450a7d2d0fb5</td><td>md5:376a0c314fb3a5f03802cbc1a6ff087e</td><td></td><td>SDSS Camera</td><td>2017-10-18T20:33:08.825</td><td>2017-10-18T20:33:08.825</td><td>SDSS</td><td>002820-5-0190</td><td>field</td><td></td></tr>\n",
       "<tr><td>caom:SDSS/1237663310133592064</td><td>--</td><td></td><td>--</td><td>--</td><td>--</td><td></td><td>--</td><td>00000000-0000-0000-a4b7-6dc59e5bf9d2</td><td>SDSS</td><td>1237663310133592064</td><td>exposure</td><td>OBJECT</td><td>science</td><td>2017-09-07T00:00:00.000</td><td>SDSS</td><td>--</td><td>SDSS</td><td>SDSS</td><td>--</td><td>-1463987.5095</td><td>-5166642.1016</td><td>3435006.2092</td><td></td><td>Apache Point 2.5m</td><td></td><td>--</td><td>--</td><td>--</td><td>--</td><td>--</td><td>--</td><td>--</td><td></td><td>S</td><td>md5:50cb51b59b2ad843cf7440fb21d8688d</td><td>md5:dad0f9dfb4ad82c0aa8b84de540e715f</td><td></td><td>SDSS Camera</td><td>2017-10-21T19:08:34.492</td><td>2017-10-21T19:08:34.492</td><td>SDSS</td><td>004153-1-0012</td><td>field</td><td></td></tr>\n",
       "<tr><td>caom:SDSS/1237663310133526528</td><td>--</td><td></td><td>--</td><td>--</td><td>--</td><td></td><td>--</td><td>00000000-0000-0000-aaab-5ba818bc8412</td><td>SDSS</td><td>1237663310133526528</td><td>exposure</td><td>OBJECT</td><td>science</td><td>2017-09-07T00:00:00.000</td><td>SDSS</td><td>--</td><td>SDSS</td><td>SDSS</td><td>--</td><td>-1463987.5095</td><td>-5166642.1016</td><td>3435006.2092</td><td></td><td>Apache Point 2.5m</td><td></td><td>--</td><td>--</td><td>--</td><td>--</td><td>--</td><td>--</td><td>--</td><td></td><td>S</td><td>md5:fde7544ca5bf6018d0a9819f4856bbae</td><td>md5:8a481c2c750b0e6997ed87895fea283f</td><td></td><td>SDSS Camera</td><td>2017-10-21T19:08:35.066</td><td>2017-10-21T19:08:35.066</td><td>SDSS</td><td>004153-1-0011</td><td>field</td><td></td></tr>\n",
       "<tr><td>caom:SDSS/apogee.apo25m.s.stars.4213.2M10133503+0139191</td><td>--</td><td></td><td>--</td><td>--</td><td>--</td><td></td><td>--</td><td>00000000-0000-0000-bb00-1c49f09554cb</td><td>SDSS</td><td>apogee.apo25m.s.stars.4213.2M10133503+0139191</td><td>combined</td><td>OBJECT</td><td>science</td><td>2017-09-07T00:00:00.000</td><td>APOGEE</td><td>--</td><td>Steven Majewski</td><td>APOGEE</td><td>--</td><td>-1463987.5095</td><td>-5166642.1016</td><td>3435006.2092</td><td></td><td>Apache Point 2.5m</td><td></td><td>--</td><td>--</td><td>--</td><td>--</td><td>--</td><td>--</td><td>--</td><td></td><td>C</td><td>md5:baa7b6195253032d3c77b7c0aec9159a</td><td>md5:959e0b003c3c18d49ee5deb89c71bd15</td><td></td><td>APOGEE Spectrograph</td><td>2017-10-26T05:22:55.481</td><td>2017-10-26T05:22:55.481</td><td>APOGEE</td><td>2M10133503+0139191</td><td>object</td><td></td></tr>\n",
       "<tr><td>caom:SDSS/apogee.apo25m.s.stars.4213.2M10133553+0235246</td><td>--</td><td></td><td>--</td><td>--</td><td>--</td><td></td><td>--</td><td>00000000-0000-0000-8fdf-d003196b5007</td><td>SDSS</td><td>apogee.apo25m.s.stars.4213.2M10133553+0235246</td><td>combined</td><td>OBJECT</td><td>science</td><td>2017-09-07T00:00:00.000</td><td>APOGEE</td><td>--</td><td>Steven Majewski</td><td>APOGEE</td><td>--</td><td>-1463987.5095</td><td>-5166642.1016</td><td>3435006.2092</td><td></td><td>Apache Point 2.5m</td><td></td><td>--</td><td>--</td><td>--</td><td>--</td><td>--</td><td>--</td><td>--</td><td></td><td>C</td><td>md5:f2f062054dfe1e08fb2b07460a056e4d</td><td>md5:e70bc8cd37a443fbc42d7ceb1f7f0442</td><td></td><td>APOGEE Spectrograph</td><td>2017-10-26T05:22:55.988</td><td>2017-10-26T05:22:55.988</td><td>APOGEE</td><td>2M10133553+0235246</td><td>object</td><td></td></tr>\n",
       "<tr><td>caom:SDSS/apogee.apo25m.s.stars.4272.2M04595733+4101335</td><td>--</td><td></td><td>--</td><td>--</td><td>--</td><td></td><td>--</td><td>00000000-0000-0000-adb4-45662dbafbab</td><td>SDSS</td><td>apogee.apo25m.s.stars.4272.2M04595733+4101335</td><td>combined</td><td>OBJECT</td><td>science</td><td>2017-09-07T00:00:00.000</td><td>APOGEE</td><td>--</td><td>Steven Majewski</td><td>APOGEE</td><td>--</td><td>-1463987.5095</td><td>-5166642.1016</td><td>3435006.2092</td><td></td><td>Apache Point 2.5m</td><td></td><td>--</td><td>--</td><td>--</td><td>--</td><td>--</td><td>--</td><td>--</td><td></td><td>C</td><td>md5:cdc4c8513ab4ff808f5ac6cb8b2b40b6</td><td>md5:230ccd78cd4fe3ce2504d81b3bdf108e</td><td></td><td>APOGEE Spectrograph</td><td>2017-10-26T20:38:36.071</td><td>2017-10-26T20:38:36.071</td><td>APOGEE</td><td>2M04595733+4101335</td><td>object</td><td></td></tr>\n",
       "<tr><td>caom:SDSS/apogee.apo25m.s.stars.4272.2M05101335+4211298</td><td>--</td><td></td><td>--</td><td>--</td><td>--</td><td></td><td>--</td><td>00000000-0000-0000-954f-7510e3fdf461</td><td>SDSS</td><td>apogee.apo25m.s.stars.4272.2M05101335+4211298</td><td>combined</td><td>OBJECT</td><td>science</td><td>2017-09-07T00:00:00.000</td><td>APOGEE</td><td>--</td><td>Steven Majewski</td><td>APOGEE</td><td>--</td><td>-1463987.5095</td><td>-5166642.1016</td><td>3435006.2092</td><td></td><td>Apache Point 2.5m</td><td></td><td>--</td><td>--</td><td>--</td><td>--</td><td>--</td><td>--</td><td>--</td><td></td><td>C</td><td>md5:edb0774dbeb832847329ae25a193d691</td><td>md5:309f8c1215c41ff18e2ba4ba2ba1d5e9</td><td></td><td>APOGEE Spectrograph</td><td>2017-10-26T22:12:33.135</td><td>2017-10-26T22:12:33.135</td><td>APOGEE</td><td>2M05101335+4211298</td><td>object</td><td></td></tr>\n",
       "<tr><td>caom:SDSS/apogee.apo25m.s.stars.4458.2M18284771-1013354</td><td>--</td><td></td><td>--</td><td>--</td><td>--</td><td></td><td>--</td><td>00000000-0000-0000-bdd1-a94a7b809192</td><td>SDSS</td><td>apogee.apo25m.s.stars.4458.2M18284771-1013354</td><td>combined</td><td>OBJECT</td><td>science</td><td>2017-09-07T00:00:00.000</td><td>APOGEE</td><td>--</td><td>Steven Majewski</td><td>APOGEE</td><td>--</td><td>-1463987.5095</td><td>-5166642.1016</td><td>3435006.2092</td><td></td><td>Apache Point 2.5m</td><td></td><td>--</td><td>--</td><td>--</td><td>--</td><td>--</td><td>--</td><td>--</td><td></td><td>C</td><td>md5:8a74b07687b4ff022ac5e3fe2cba8b1b</td><td>md5:7d47400ba779717ea3597faa7263c8b4</td><td></td><td>APOGEE Spectrograph</td><td>2017-10-27T02:11:44.537</td><td>2017-10-27T02:11:44.537</td><td>APOGEE</td><td>2M18284771-1013354</td><td>object</td><td></td></tr>\n",
       "<tr><td>caom:SDSS/apogee.apo25m.s.stars.4370.2M18101335-1557288</td><td>--</td><td></td><td>--</td><td>--</td><td>--</td><td></td><td>--</td><td>00000000-0000-0000-bbfb-654dd426ef77</td><td>SDSS</td><td>apogee.apo25m.s.stars.4370.2M18101335-1557288</td><td>combined</td><td>OBJECT</td><td>science</td><td>2017-09-07T00:00:00.000</td><td>APOGEE</td><td>--</td><td>Steven Majewski</td><td>APOGEE</td><td>--</td><td>-1463987.5095</td><td>-5166642.1016</td><td>3435006.2092</td><td></td><td>Apache Point 2.5m</td><td></td><td>--</td><td>--</td><td>--</td><td>--</td><td>--</td><td>--</td><td>--</td><td></td><td>C</td><td>md5:8425d9a85fcb9af58da5668bf22f1da6</td><td>md5:7ccf4a6306edaaf1561d75c2bc4093ca</td><td></td><td>APOGEE Spectrograph</td><td>2017-10-27T02:43:19.032</td><td>2017-10-27T02:43:19.032</td><td>APOGEE</td><td>2M18101335-1557288</td><td>object</td><td></td></tr>\n",
       "</table>"
      ],
      "text/plain": [
       "<Table masked=True length=179>\n",
       "                     observationURI                     ...\n",
       "                                                        ...\n",
       "                         object                         ...\n",
       "------------------------------------------------------- ...\n",
       "                               caom:SUBARU/SUPE01013350 ...\n",
       "                                       caom:CFHT/101335 ...\n",
       "                 caom:JCMT/scuba2_00031_20150518T101335 ...\n",
       "                 caom:JCMT/scuba2_00027_20130510T101335 ...\n",
       "                    caom:JCMT/DAS_00030_20001130T101335 ...\n",
       "                    caom:JCMT/DAS_00347_19960719T101335 ...\n",
       "    caom:JCMT/20140325-123b101335713dc0cbe813dd01b211aa ...\n",
       "    caom:JCMT/20140327-8dd00b406b47d696f8101335d9b28d59 ...\n",
       "              caom:JCMT/eac_9308@930816_101335_ukt_0037 ...\n",
       "                                                    ... ...\n",
       "                       caom:NOAO/c15e_140602_101335_cri ...\n",
       "                          caom:SDSS/1237657587101335552 ...\n",
       "                          caom:SDSS/1237663310133592064 ...\n",
       "                          caom:SDSS/1237663310133526528 ...\n",
       "caom:SDSS/apogee.apo25m.s.stars.4213.2M10133503+0139191 ...\n",
       "caom:SDSS/apogee.apo25m.s.stars.4213.2M10133553+0235246 ...\n",
       "caom:SDSS/apogee.apo25m.s.stars.4272.2M04595733+4101335 ...\n",
       "caom:SDSS/apogee.apo25m.s.stars.4272.2M05101335+4211298 ...\n",
       "caom:SDSS/apogee.apo25m.s.stars.4458.2M18284771-1013354 ...\n",
       "caom:SDSS/apogee.apo25m.s.stars.4370.2M18101335-1557288 ..."
      ]
     },
     "metadata": {},
     "output_type": "display_data"
    }
   ],
   "source": [
    "display(query_builder.get_query_result())"
   ]
  },
  {
   "cell_type": "code",
   "execution_count": null,
   "metadata": {},
   "outputs": [],
   "source": []
  }
 ],
 "metadata": {
  "kernelspec": {
   "display_name": "Python 3",
   "language": "python",
   "name": "python3"
  },
  "language_info": {
   "codemirror_mode": {
    "name": "ipython",
    "version": 3
   },
   "file_extension": ".py",
   "mimetype": "text/x-python",
   "name": "python",
   "nbconvert_exporter": "python",
   "pygments_lexer": "ipython3",
   "version": "3.6.8"
  }
 },
 "nbformat": 4,
 "nbformat_minor": 2
}
