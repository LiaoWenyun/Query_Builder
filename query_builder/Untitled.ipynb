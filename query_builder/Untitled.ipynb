{
 "cells": [
  {
   "cell_type": "code",
   "execution_count": 4,
   "metadata": {
    "scrolled": false
   },
   "outputs": [
    {
     "data": {
      "application/vnd.jupyter.widget-view+json": {
       "model_id": "82f373b863584e7d8da9e5319e15294b",
       "version_major": 2,
       "version_minor": 0
      },
      "text/plain": [
       "Output()"
      ]
     },
     "metadata": {},
     "output_type": "display_data"
    },
    {
     "data": {
      "application/vnd.jupyter.widget-view+json": {
       "model_id": "d7c0e341e02a4e409b180915e6d4b3ca",
       "version_major": 2,
       "version_minor": 0
      },
      "text/plain": [
       "Output(layout=Layout(width='100%'))"
      ]
     },
     "metadata": {},
     "output_type": "display_data"
    }
   ],
   "source": [
    "import os\n",
    "import sys\n",
    "import ipywidgets as widgets\n",
    "import pyvo\n",
    "from IPython.display import Image, display, clear_output\n",
    "sys.path.insert(0, os.path.abspath('./'))\n",
    "\n",
    "from final_core import QueryBuilder\n",
    "\n",
    "out = widgets.Output(layout=widgets.Layout(width='100%'))\n",
    "query_builder = QueryBuilder()\n",
    "\n",
    "def Search_button(b):\n",
    "    with out:\n",
    "        clear_output()\n",
    "        b.disabled = True\n",
    "        query_builder.search_query()\n",
    "        b.disabled = False\n",
    "        \n",
    "button = widgets.Button(\n",
    "            description=\"SEARCH\",\n",
    "            layout=widgets.Layout(flex='1 1 auto',\n",
    "                                  width='auto'),\n",
    "            style=widgets.ButtonStyle(button_color='#E58975'))\n",
    "button.on_click(Search_button)\n",
    "\n",
    "query_builder.list_test.append(button)\n",
    "\n",
    "query_builder.Start_query()\n",
    "display(out)\n",
    "\n",
    "\n",
    "\n",
    "\n",
    "\n",
    "\n",
    "\n",
    "\n",
    "\n",
    "\n",
    "    \n",
    "    \n",
    "    \n",
    "    "
   ]
  },
  {
   "cell_type": "code",
   "execution_count": null,
   "metadata": {
    "scrolled": true
   },
   "outputs": [],
   "source": []
  }
 ],
 "metadata": {
  "kernelspec": {
   "display_name": "Python 3",
   "language": "python",
   "name": "python3"
  },
  "language_info": {
   "codemirror_mode": {
    "name": "ipython",
    "version": 3
   },
   "file_extension": ".py",
   "mimetype": "text/x-python",
   "name": "python",
   "nbconvert_exporter": "python",
   "pygments_lexer": "ipython3",
   "version": "3.6.8"
  }
 },
 "nbformat": 4,
 "nbformat_minor": 2
}
