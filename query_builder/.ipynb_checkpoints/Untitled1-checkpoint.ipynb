{
 "cells": [
  {
   "cell_type": "code",
   "execution_count": 8,
   "metadata": {},
   "outputs": [
    {
     "name": "stdout",
     "output_type": "stream",
     "text": [
      "caom2.Artifact  \n",
      "caom2.Plane  \n",
      "caom2.Part  \n",
      "caom2.Observation  \n",
      "caom2.ProvenanceInput  \n",
      "caom2.Chunk  \n",
      "caom2.ObservationMember  \n"
     ]
    },
    {
     "data": {
      "text/plain": [
       "['caom2.Plane',\n",
       " 'caom2.Part',\n",
       " 'caom2.Observation',\n",
       " 'caom2.ProvenanceInput',\n",
       " 'caom2.Chunk',\n",
       " 'caom2.ObservationMember']"
      ]
     },
     "execution_count": 8,
     "metadata": {},
     "output_type": "execute_result"
    }
   ],
   "source": [
    "from collections import defaultdict\n",
    "import networkx as nx\n",
    "\n",
    "def BFS(graph, selected_node):\n",
    "    result = []\n",
    "    visited = [False] * (len(graph))\n",
    "    queue = []\n",
    "    queue.append(selected_node)\n",
    "    visited[list(graph.keys()).index(selected_node)] = True\n",
    "        \n",
    "    while queue:\n",
    "        selected_node = queue[0]\n",
    "        queue = queue[1:]\n",
    "        print(f\"{selected_node}  \")\n",
    "        result.append(selected_node)\n",
    "        \n",
    "        for i in graph[selected_node]:\n",
    "           # print(f\"i : {i}\")\n",
    "            if visited[list(graph.keys()).index(i)] == False: \n",
    "                queue.append(i)\n",
    "               # print(f\"queue : {queue}\")\n",
    "               # print(f\"visited : {visited}\")\n",
    "                visited[list(graph.keys()).index(i)] = True\n",
    "        return result[1:]\n",
    "                \n",
    "graph = {'caom2.Observation': ['caom2.ObservationMember'],\n",
    " 'caom2.Plane': ['caom2.Observation', 'caom2.ProvenanceInput'],\n",
    " 'caom2.Artifact': ['caom2.Plane'],\n",
    " 'caom2.Part': ['caom2.Artifact'],\n",
    " 'caom2.Chunk': ['caom2.Part'],\n",
    " 'tap_schema.schemas': [],\n",
    " 'tap_schema.tables': ['tap_schema.schemas'],\n",
    " 'tap_schema.columns': ['tap_schema.tables'],\n",
    " 'tap_schema.keys': ['tap_schema.tables'],\n",
    " 'tap_schema.key_columns': ['tap_schema.keys', 'tap_schema.columns'],\n",
    " 'caom2.ObservationMember': ['caom2.Observation'],\n",
    " 'caom2.ProvenanceInput': ['caom2.Plane'],\n",
    " 'caom2.EnumField': [],\n",
    " 'caom2.ObsCoreEnumField': [],\n",
    " 'caom2.distinct_proposal_id': [],\n",
    " 'caom2.distinct_proposal_pi': [],\n",
    " 'caom2.distinct_proposal_title': [],\n",
    " 'ivoa.ObsCore': [],\n",
    " 'ivoa.ObsFile': ['ivoa.ObsCore'],\n",
    " 'ivoa.ObsPart': ['ivoa.ObsFile'],\n",
    " 'caom2.HarvestSkipURI': [],\n",
    " 'caom2.SIAv1': []}\n",
    "\n",
    "BFS(graph, \"caom2.EnumField\")"
   ]
  },
  {
   "cell_type": "code",
   "execution_count": null,
   "metadata": {},
   "outputs": [],
   "source": [
    "%debug"
   ]
  },
  {
   "cell_type": "code",
   "execution_count": null,
   "metadata": {},
   "outputs": [],
   "source": []
  }
 ],
 "metadata": {
  "kernelspec": {
   "display_name": "Python 3",
   "language": "python",
   "name": "python3"
  },
  "language_info": {
   "codemirror_mode": {
    "name": "ipython",
    "version": 3
   },
   "file_extension": ".py",
   "mimetype": "text/x-python",
   "name": "python",
   "nbconvert_exporter": "python",
   "pygments_lexer": "ipython3",
   "version": "3.6.8"
  }
 },
 "nbformat": 4,
 "nbformat_minor": 2
}
