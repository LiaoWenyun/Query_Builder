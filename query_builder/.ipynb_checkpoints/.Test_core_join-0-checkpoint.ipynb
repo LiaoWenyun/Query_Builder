{
 "cells": [
  {
   "cell_type": "code",
   "execution_count": 1,
   "metadata": {
    "scrolled": true
   },
   "outputs": [
    {
     "data": {
      "application/vnd.jupyter.widget-view+json": {
       "model_id": "17e1c714e5184f2ba5ef3c9b0dd2a52b",
       "version_major": 2,
       "version_minor": 0
      },
      "text/plain": [
       "Tab(children=(Output(),), _titles={'0': '0'})"
      ]
     },
     "metadata": {},
     "output_type": "display_data"
    }
   ],
   "source": [
    "import os\n",
    "import sys\n",
    "sys.path.insert(0, os.path.abspath('./'))\n",
    "import ipywidgets as widgets\n",
    "import pyvo\n",
    "from IPython.display import Image, display, clear_output\n",
    "\n",
    "from core_join import QueryBuilder\n",
    "\n",
    "out = widgets.Output()\n",
    "with out:\n",
    "    query_builder = QueryBuilder()\n",
    "    \n",
    "tab_contents = ['test']\n",
    "children = [out]\n",
    "tab = widgets.Tab()\n",
    "tab.children = children\n",
    "for i in range(len(children)):\n",
    "    tab.set_title(i, str(i))\n",
    "display(tab)\n",
    "\n"
   ]
  },
  {
   "cell_type": "code",
   "execution_count": null,
   "metadata": {},
   "outputs": [],
   "source": []
  }
 ],
 "metadata": {
  "kernelspec": {
   "display_name": "Python 3",
   "language": "python",
   "name": "python3"
  },
  "language_info": {
   "codemirror_mode": {
    "name": "ipython",
    "version": 3
   },
   "file_extension": ".py",
   "mimetype": "text/x-python",
   "name": "python",
   "nbconvert_exporter": "python",
   "pygments_lexer": "ipython3",
   "version": "3.6.8"
  }
 },
 "nbformat": 4,
 "nbformat_minor": 2
}
