{
 "cells": [
  {
   "cell_type": "code",
   "execution_count": 2,
   "metadata": {
    "scrolled": false
   },
   "outputs": [
    {
     "data": {
      "application/vnd.jupyter.widget-view+json": {
       "model_id": "d8d8e0e3436e492dada207081dc27391",
       "version_major": 2,
       "version_minor": 0
      },
      "text/plain": [
       "HBox(children=(Button(description='View Query', layout=Layout(width='100px'), style=ButtonStyle(button_color='…"
      ]
     },
     "metadata": {},
     "output_type": "display_data"
    },
    {
     "ename": "AttributeError",
     "evalue": "'QueryBuilder' object has no attribute '__BFS'",
     "output_type": "error",
     "traceback": [
      "\u001b[0;31m---------------------------------------------------------------------------\u001b[0m",
      "\u001b[0;31mAttributeError\u001b[0m                            Traceback (most recent call last)",
      "\u001b[0;32m<ipython-input-2-199176c3d19d>\u001b[0m in \u001b[0;36m<module>\u001b[0;34m\u001b[0m\n\u001b[1;32m     33\u001b[0m  'caom2.SIAv1': []}\n\u001b[1;32m     34\u001b[0m \u001b[0;34m\u001b[0m\u001b[0m\n\u001b[0;32m---> 35\u001b[0;31m \u001b[0mquery_builder\u001b[0m\u001b[0;34m.\u001b[0m\u001b[0m__BFS\u001b[0m\u001b[0;34m(\u001b[0m\u001b[0mgraph\u001b[0m\u001b[0;34m,\u001b[0m \u001b[0;34m\"caom2.Plane\"\u001b[0m\u001b[0;34m)\u001b[0m\u001b[0;34m\u001b[0m\u001b[0;34m\u001b[0m\u001b[0m\n\u001b[0m",
      "\u001b[0;31mAttributeError\u001b[0m: 'QueryBuilder' object has no attribute '__BFS'"
     ]
    }
   ],
   "source": [
    "import os\n",
    "import sys\n",
    "import ipywidgets as widgets\n",
    "import pyvo\n",
    "from IPython.display import Image, display, clear_output\n",
    "sys.path.insert(0, os.path.abspath('./'))\n",
    "\n",
    "from final_core import QueryBuilder\n",
    "query_builder = QueryBuilder()\n",
    "#query_builder.Start_query()\n",
    "\n",
    "grapht = {'caom2.Observation': ['caom2.ObservationMember'],\n",
    " 'caom2.Plane': ['caom2.Observation', 'caom2.ProvenanceInput'],\n",
    " 'caom2.Artifact': ['caom2.Plane'],\n",
    " 'caom2.Part': ['caom2.Artifact'],\n",
    " 'caom2.Chunk': ['caom2.Part'],\n",
    " 'tap_schema.schemas': [],\n",
    " 'tap_schema.tables': ['tap_schema.schemas'],\n",
    " 'tap_schema.columns': ['tap_schema.tables'],\n",
    " 'tap_schema.keys': ['tap_schema.tables'],\n",
    " 'tap_schema.key_columns': ['tap_schema.keys', 'tap_schema.columns'],\n",
    " 'caom2.ObservationMember': ['caom2.Observation'],\n",
    " 'caom2.ProvenanceInput': ['caom2.Plane'],\n",
    " 'caom2.EnumField': [],\n",
    " 'caom2.ObsCoreEnumField': [],\n",
    " 'caom2.distinct_proposal_id': [],\n",
    " 'caom2.distinct_proposal_pi': [],\n",
    " 'caom2.distinct_proposal_title': [],\n",
    " 'ivoa.ObsCore': [],\n",
    " 'ivoa.ObsFile': ['ivoa.ObsCore'],\n",
    " 'ivoa.ObsPart': ['ivoa.ObsFile'],\n",
    " 'caom2.HarvestSkipURI': [],\n",
    " 'caom2.SIAv1': []}\n",
    "\n",
    "query_builder.__BFS(graph, \"caom2.Plane\")\n"
   ]
  },
  {
   "cell_type": "code",
   "execution_count": null,
   "metadata": {},
   "outputs": [],
   "source": []
  }
 ],
 "metadata": {
  "kernelspec": {
   "display_name": "Python 3",
   "language": "python",
   "name": "python3"
  },
  "language_info": {
   "codemirror_mode": {
    "name": "ipython",
    "version": 3
   },
   "file_extension": ".py",
   "mimetype": "text/x-python",
   "name": "python",
   "nbconvert_exporter": "python",
   "pygments_lexer": "ipython3",
   "version": "3.6.8"
  }
 },
 "nbformat": 4,
 "nbformat_minor": 2
}
